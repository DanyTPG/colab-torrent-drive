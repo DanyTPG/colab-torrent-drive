{
  "nbformat": 4,
  "nbformat_minor": 0,
  "metadata": {
    "colab": {
      "name": "CloudTorrentLeecher-Public.ipynb",
      "provenance": [],
      "collapsed_sections": [],
      "include_colab_link": true
    },
    "kernelspec": {
      "display_name": "Python 3",
      "name": "python3"
    }
  },
  "cells": [
    {
      "cell_type": "markdown",
      "metadata": {
        "id": "view-in-github",
        "colab_type": "text"
      },
      "source": [
        "<a href=\"https://colab.research.google.com/github/DanyTPG/colab-torrent-drive/blob/main/CloudTorrentClient_Public.ipynb\" target=\"_parent\"><img src=\"https://colab.research.google.com/assets/colab-badge.svg\" alt=\"Open In Colab\"/></a>"
      ]
    },
    {
      "cell_type": "markdown",
      "metadata": {
        "id": "JGiyqlvFGe6o"
      },
      "source": [
        "#**Important Notes:**\r\n",
        "\r\n",
        "\r\n",
        "\r\n",
        "*   ### **`VERY IMPORTANT:`** FIRST OF ALL SAVE A COPY OF THIS NOTEBOOK USING THE FILE MENU IN THE TOP LEFT SIDE OF YOUR SCREEN. YOU CAN NOT EDIT OR SAVE THIS NOTEBOOK. I OWN IT! \r\n",
        "###MAKE A COPY, OPEN YOUR OWN COPY AND THEN FOLLOW THE REST OF THE INSTRUCTIONS.\r\n",
        "\r\n",
        "\r\n",
        "*   Your google colab notebooks will automatically turn off after 1.5 hours of inactivity. (Inactivity means not interacting with the google colab browser tab)\r\n",
        "\r\n",
        "*   Your google colab notebooks will automatically turn off after 12 hours of work. (Maximum allowed run time)\r\n",
        "\r\n"
      ]
    },
    {
      "cell_type": "markdown",
      "metadata": {
        "id": "upV03BB4E8Ad"
      },
      "source": [
        "# Mount your Google Drive"
      ]
    },
    {
      "cell_type": "markdown",
      "metadata": {
        "id": "ENyY_65fIAi7"
      },
      "source": [
        "\r\n",
        "> **Note1**: you can only upload 750 GBs per day to google drive. uploads more than that amount result in a 1 day upload ban on your account.\r\n",
        "\r\n",
        "> **Note2**: however if you hit 750GB limit while uploading, your currently uplading file will not be interrupted.\r\n",
        "Example: you have uploaded 749GBs. you will queue a 4GB file for uploading. your 4GB file will get uploaded then you will receive the 1 day upload ban."
      ]
    },
    {
      "cell_type": "code",
      "metadata": {
        "id": "TJXn7kHfCROe",
        "colab": {
          "base_uri": "https://localhost:8080/"
        },
        "outputId": "5bef9b43-c46e-426a-f7fc-fc0b7f09a1ba"
      },
      "source": [
        "from google.colab import drive \n",
        "drive.mount('/content/drive')"
      ],
      "execution_count": null,
      "outputs": [
        {
          "output_type": "stream",
          "text": [
            "Mounted at /content/drive\n"
          ],
          "name": "stdout"
        }
      ]
    },
    {
      "cell_type": "markdown",
      "metadata": {
        "id": "j1RJhk9bqYjh"
      },
      "source": [
        "# <img src='https://i.ibb.co/SKGZS75/DOoxSuO.png' height=\"38\" alt=\"Simple Torrent\" />"
      ]
    },
    {
      "cell_type": "markdown",
      "metadata": {
        "id": "gViNZ9I_Qp7B"
      },
      "source": [
        "####**Important note:**\r\n",
        "\r\n",
        "when setting `DownloadPath`, the directory for your main personal google drive is: `drive/MyDrive` \r\n",
        "\r\n",
        "if you have a shared drive you would like to use as download path then the path is: `drive/Shareddrives/YourDriveName`"
      ]
    },
    {
      "cell_type": "markdown",
      "metadata": {
        "id": "nHre4I_JotnZ"
      },
      "source": [
        "Signup at [ngrok.io](https://ngrok.com) and save your auth token in the field below for later use. (double click to edit)\n",
        "\n",
        "\n",
        "**Token:** \n",
        "\n",
        "```\n",
        "save your token here\n",
        "```\n",
        "\n",
        "\n"
      ]
    },
    {
      "cell_type": "code",
      "metadata": {
        "id": "7ugL9AHMqejP",
        "colab": {
          "base_uri": "https://localhost:8080/",
          "height": 97
        },
        "cellView": "form",
        "outputId": "ac30e017-98c7-4c87-f928-f07d94267bcc"
      },
      "source": [
        "#@markdown <h4>⬅️ Click here to START server</h4>\n",
        "#@markdown <br><center><img src='https://i.ibb.co/SKGZS75/DOoxSuO.png' height=\"50\" alt=\"netdata\"/></center>\n",
        "#@markdown <center><h3>SimpleTorrent is a a self-hosted remote torrent client.</h3></center><br>\n",
        " \n",
        "import os\n",
        "import time\n",
        "import pathlib \n",
        "import urllib.request\n",
        "from IPython.display import clear_output\n",
        " \n",
        "# script version\n",
        "Version = '1.0'\n",
        " \n",
        "#####################################\n",
        "USE_FREE_TOKEN = False \n",
        "NgrokTOKEN = \"Enter Your ngrok Token Here\" # @param {type:\"string\"}\n",
        "DownloadPath = \"drive/Shareddrives/D8/\" #@param {type:\"string\"}\n",
        "HOME = os.path.expanduser(\"~\")\n",
        " \n",
        "if not os.path.exists(f\"{HOME}/.ipython/ttmg.py\"):\n",
        "    hCode = \"https://raw.githubusercontent.com/Pavithran-R/\" \\\n",
        "                \"Colab-SimpleTorrent/master/res/ttmg.py\"\n",
        "    urllib.request.urlretrieve(hCode, f\"{HOME}/.ipython/ttmg.py\")\n",
        " \n",
        "from ttmg import (\n",
        "    runSh,\n",
        "    findProcess,\n",
        "    loadingAn,\n",
        "    updateCheck,\n",
        "    ngrok\n",
        ")\n",
        "# making enviroment for simple-torrent\n",
        "pathlib.Path('downloads').mkdir(mode=0o777, exist_ok=True)\n",
        "pathlib.Path('torrents').mkdir(mode=0o777, exist_ok=True)\n",
        "  \n",
        "configPath = pathlib.Path('cloud-torrent.json')\n",
        "configsdata = r\"\"\"\n",
        "{{\n",
        "  \"AutoStart\": true,\n",
        "  \"EngineDebug\": false,\n",
        "  \"MuteEngineLog\": true,\n",
        "  \"ObfsPreferred\": true,\n",
        "  \"ObfsRequirePreferred\": false,\n",
        "  \"DisableTrackers\": false,\n",
        "  \"DisableIPv6\": false,\n",
        "  \"DownloadDirectory\": \"{}\",\n",
        "  \"WatchDirectory\": \"torrents/\",\n",
        "  \"EnableUpload\": true,\n",
        "  \"EnableSeeding\": true,\n",
        "  \"IncomingPort\": 50007,\n",
        "  \"DoneCmd\": \"{}/doneCMD.sh\",\n",
        "  \"SeedRatio\": 10,\n",
        "  \"UploadRate\": \"Unlimited\",\n",
        "  \"DownloadRate\": \"Unlimited\",\n",
        "  \"TrackerListURL\": \"https://trackerslist.com/all.txt\",\n",
        "  \"AlwaysAddTrackers\": true,\n",
        "  \"ProxyURL\": \"\"\n",
        "}}\n",
        "\"\"\".format(DownloadPath,HOME)\n",
        "with open(configPath, \"w+\") as configFile:\n",
        "  configFile.write(configsdata)\n",
        "#####################################\n",
        " \n",
        "if updateCheck(\"Checking updates ...\", Version):  # VERSION CHECKING ...\n",
        "    !kill -9 -1 &\n",
        "clear_output()\n",
        " \n",
        "# Simple Torrent installing ...\n",
        "loadingAn()\n",
        "if os.path.isfile(\"/usr/local/bin/cloud-torrent\") is False:\n",
        "  dcmd = \"wget -qq https://raw.githubusercontent.com/Pavithran-R/\" \\\n",
        "          \"Colab-SimpleTorrent/master/res/scripts/\" \\\n",
        "          \"simpleCloudInstaller.sh -O ./simpleCloudInstaller.sh\"\n",
        "  runSh(dcmd)\n",
        "  runSh('bash ./simpleCloudInstaller.sh')\n",
        "  runSh('rm -rf ./simpleCloudInstaller.sh')\n",
        " \n",
        "#Opening cloud-torrent in background\n",
        "if not findProcess(\"cloud-torrent\", \"cloud-torrent\"):\n",
        "  PORT = 4444\n",
        "  try:\n",
        "    urllib.request.urlopen(f\"http://localhost:{PORT}\")\n",
        "  except:\n",
        "    cmdC = f'cloud-torrent --port {PORT} ' \\\n",
        "        '-t \"SimpleTorrent\" ' \\\n",
        "        '-c cloud-torrent.json ' \\\n",
        "        '--host 0.0.0.0 --disable-log-time ' \\\n",
        "        '&'\n",
        "    for run in range(10):    \n",
        "      runSh(cmdC, shell=True)\n",
        "      time.sleep(3)\n",
        "      try:\n",
        "        urllib.request.urlopen(f\"http://localhost:{PORT}\")\n",
        "        break\n",
        "      except:\n",
        "        print(\"Error: Simple-Torrent not starting. Retrying ...\")\n",
        " \n",
        "# START_SERVER\n",
        "clear_output()\n",
        "Server = ngrok(\n",
        "    NgrokTOKEN, USE_FREE_TOKEN, [['simple-torrent', 4444, 'http'], \n",
        "    ['peerflix-server', 4445, 'http']], 'us', \n",
        "    [f\"{HOME}/.ngrok2/ngrok01.yml\", 4040]\n",
        ").start('simple-torrent')"
      ],
      "execution_count": null,
      "outputs": [
        {
          "output_type": "display_data",
          "data": {
            "text/html": [
              "<style>@import url('https://fonts.googleapis.com/css?family=Source+Code+Pro:200,900');  :root {   --text-color: hsla(210, 50%, 85%, 1);   --shadow-color: hsla(210, 40%, 52%, .4);   --btn-color: hsl(210, 80%, 42%);   --bg-color: #141218; }  * {   box-sizing: border-box; } button { position:relative; padding: 10px 20px;     border: none;   background: none;   cursor: pointer;      font-family: \"Source Code Pro\";   font-weight: 900;   font-size: 20px;     color: var(--text-color);      background-color: var(--btn-color);   box-shadow: var(--shadow-color) 2px 2px 22px;   border-radius: 4px;    z-index: 0;     overflow: hidden;    }  button:focus {   outline-color: transparent;   box-shadow: var(--btn-color) 2px 2px 22px; }  .right::after, button::after {   content: var(--content);   display: block;   position: absolute;   white-space: nowrap;   padding: 40px 40px;   pointer-events:none; }  button::after{   font-weight: 200;   top: -30px;   left: -20px; }   .right, .left {   position: absolute;   width: 100%;   height: 100%;   top: 0; } .right {   left: 66%; } .left {   right: 66%; } .right::after {   top: -30px;   left: calc(-66% - 20px);      background-color: var(--bg-color);   color:transparent;   transition: transform .4s ease-out;   transform: translate(0, -90%) rotate(0deg) }  button:hover .right::after {   transform: translate(0, -47%) rotate(0deg) }  button .right:hover::after {   transform: translate(0, -50%) rotate(-7deg) }  button .left:hover ~ .right::after {   transform: translate(0, -50%) rotate(7deg) }  /* bubbles */ button::before {   content: '';   pointer-events: none;   opacity: .6;   background:     radial-gradient(circle at 20% 35%,  transparent 0,  transparent 2px, var(--text-color) 3px, var(--text-color) 4px, transparent 4px),     radial-gradient(circle at 75% 44%, transparent 0,  transparent 2px, var(--text-color) 3px, var(--text-color) 4px, transparent 4px),     radial-gradient(circle at 46% 52%, transparent 0, transparent 4px, var(--text-color) 5px, var(--text-color) 6px, transparent 6px);    width: 100%;   height: 300%;   top: 0;   left: 0;   position: absolute;   animation: bubbles 5s linear infinite both; }  @keyframes bubbles {   from {     transform: translate();   }   to {     transform: translate(0, -66.666%);   } }    Resources</style><center><a href=\"https://68c559948ea2.ngrok.io\" target=\"_blank\"><div style=\"width: 570px;   height: 80px; padding-top:15px\"><button style='--content: \"Public URL: https://68c559948ea2.ngrok.io\";'\">   <div class=\"left\"></div>Public URL: https://68c559948ea2.ngrok.io<div class=\"right\"></div> </div></button></a></center>"
            ],
            "text/plain": [
              "<IPython.core.display.HTML object>"
            ]
          },
          "metadata": {
            "tags": []
          }
        }
      ]
    },
    {
      "cell_type": "markdown",
      "metadata": {
        "id": "wqMHxaEDLcO8"
      },
      "source": [
        "# How To Get Unlimited Google Drive"
      ]
    },
    {
      "cell_type": "markdown",
      "metadata": {
        "id": "2Ueiu2C0b_D4"
      },
      "source": [
        "####Visit one of the websites below and follow their instructions to get an unlimited shared google drive:\r\n",
        "\r\n",
        "\r\n",
        "*   [td.fastio.me](https://td.fastio.me)\r\n",
        "*   [td.hackgence.com](https://td.hackgence.com)\r\n",
        "\r\n",
        "**Note:** it is not recomended to upload private content in shared drives!\r\n",
        "\r\n",
        "When you successfully get the drive your new drive will be added under the `Shared Drives` category\r\n",
        "\r\n",
        "\r\n",
        "<img src=\"https://i.ibb.co/dQ5yMCj/Annotation-2021-01-04-210305.png\" alt=\"Annotation-2021-01-04-210305\" border=\"0\">\r\n"
      ]
    },
    {
      "cell_type": "markdown",
      "metadata": {
        "id": "m2-q58CaeD1E"
      },
      "source": [
        "# How to download from google drive using direct links:"
      ]
    },
    {
      "cell_type": "markdown",
      "metadata": {
        "id": "TzT3---WeTY2"
      },
      "source": [
        "### In this section we will be creating a website using [Cloudflare Workers](https://workers.cloudflare.com/) to access google drive directly.\r\n",
        "\r\n",
        "Enter [cloudflare.com](https://cloudflare.com) and sign up for an account.\r\n",
        "\r\n",
        "head over https://github.com/alx-xlx/goindex and choose a website style that you like. follow the instructions on how to get the cloudflare worker script for the website.\r\n",
        "after you get the script code head over to your cloudflare dashboard. \r\n",
        "\r\n",
        "##**Open Workers**\r\n",
        "\r\n",
        "<img src=\"https://i.ibb.co/R4xf3Hf/Annotation-2021-01-04-211353.png\" alt=\"Annotation-2021-01-04-211353\" border=\"0\">\r\n",
        "\r\n",
        "##**Enter your desired subdomain:**\r\n",
        "<img src=\"https://i.ibb.co/KbzvdRG/Annotation-2021-01-04-211641.png\" alt=\"Annotation-2021-01-04-211641\" border=\"0\">\r\n",
        "\r\n",
        "##**Create a worker:**\r\n",
        "<img src=\"https://i.ibb.co/p2kXW4j/Annotation-2021-01-04-211907.png\" alt=\"Annotation-2021-01-04-211907\" border=\"0\">\r\n",
        "\r\n",
        "##**change your worker name and paste the script. click on save and deploy.** \r\n",
        "<img src=\"https://i.ibb.co/cg1wMrc/Annotation-2021-01-04-212649.png\" alt=\"Annotation-2021-01-04-212649\" border=\"0\">\r\n",
        "\r\n",
        "###**Congrats! Now you have a website for downloading from google drive with direct links!**\r\n",
        "###Depending on which website style you choose, your website will look different than mine. I used a lite style.\r\n",
        "\r\n",
        "<img src=\"https://i.ibb.co/GsSW6kx/Annotation-2021-01-04-213207.png\" alt=\"Annotation-2021-01-04-213207\" border=\"0\">"
      ]
    }
  ]
}